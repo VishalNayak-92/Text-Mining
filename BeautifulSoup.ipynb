{
 "cells": [
  {
   "cell_type": "markdown",
   "metadata": {},
   "source": [
    "# <center>HTML Basics</center>\n",
    "\n",
    "___\n",
    "\n",
    "Hypertext Markup Language (HTML) is the standard markup language for documents designed to be displayed in a web browser. It can be assisted by technologies such as Cascading Style Sheets(CSS) and scripting languages such as JavaScript(JS).\n",
    "\n",
    "- HTML describes the structure of a Web page that tell the browser how to display the content.\n",
    "- HTML consists of a series of elements, represented by tags.\n",
    "- Browsers do not display the HTML tags, but use them to render the content of the page.\n",
    "\n",
    "\n",
    "### Simple HTML Document\n",
    "\n",
    "- The <!DOCTYPE html> declaration defines this document to be HTML5\n",
    "- The < html> element is the root element of an HTML page\n",
    "- The < head> element contains meta information about the document\n",
    "- The < title> element specifies a title for the document\n",
    "- The < body> element contains the visible page content\n",
    "- The < h1> element defines a large heading\n",
    "- The < p> element defines a paragraph\n",
    "\n",
    "<img src='img/pagestructure.jpg'  width=\"700\" height=\"700\" >\n",
    "\n",
    "### HTML Tags\n",
    "\n",
    "HTML tags are element names surrounded by angle brackets. They are normally come in pairs with a start tag `<p>` and a end tag `</p>`. Otherwise there are self closing tag like line break denoted as `<br />`\n",
    "\n",
    "Some commonly used tags :\n",
    "\n",
    "- __Anchor__ tag: It is used to link one page to another page.\n",
    "- __List__ tag: It is used to list the content.\n",
    "- __Ordered List__ tag: It is used to list the content in a particular order.\n",
    "- __Unordered List__ tag: It is used to list the content without order.\n",
    "- __Image__ tag: It is used to add image element in html document.\n",
    "- __Tables__ Tags: Table tag is used to create a table in html document.\n",
    "- __Form__ tag: It is used to create html form for user.\n",
    "\n",
    "\n",
    "Lets implement these below with a very basic example. "
   ]
  },
  {
   "cell_type": "markdown",
   "metadata": {},
   "source": [
    "<html>\n",
    "    <head>\n",
    "        <title>First HTML</title>\n",
    "    </head>    \n",
    "    <body bgcolor = 'yellow'>  \n",
    "        <p><i>Write this code in a text file, save it as html format and open in browser.</i></p>\n",
    "        <ol>  \n",
    "            <li>List item 1</li>  \n",
    "            <li>List item 2</li> \n",
    "        </ol>\n",
    "        <ul type = 'circle'>  \n",
    "            <li>List item</li>  \n",
    "            <li>List item</li> \n",
    "        </ul>\n",
    "        <form> \n",
    "            <p>Submit you Request</p>\n",
    "            <input type='text' maxlength='30'>  \n",
    "            <input type='Submit' value='Submit'>  \n",
    "        </form>\n",
    "        <img src='img/sale.jpg' width='200' height='200' >\n",
    "        <a href = 'https://www.amazon.com/'>BUY@AMAZON</a>\n",
    "        <br/>\n",
    "        <table bordercolor = 'black' bgcolor = 'lightpink'> \n",
    "            <tr> \n",
    "                <th>Month</th> \n",
    "                <th>Expenses</th> \n",
    "            </tr> \n",
    "            <tr> \n",
    "                <td>January</td> \n",
    "                <td>100</td> \n",
    "            </tr> \n",
    "        </table>\n",
    "    </body>    \n",
    "</html>    "
   ]
  },
  {
   "cell_type": "markdown",
   "metadata": {},
   "source": [
    "# <center>Web Scraping with BeautifulSoup</center>\n",
    "\n",
    "___\n",
    "\n",
    "This activity will use the below modules:\n",
    "\n",
    "- Requests : To make web requests\n",
    "\n",
    "- Beautiful Soup : To extract data from the HTML response\n",
    "\n",
    "BeautifulSoup can extract single or multiple occurrences of a specific tag and can also accept search criteria based on attributes such as:\n",
    "\n",
    "- find()\n",
    "\n",
    "- findall()\n",
    "\n",
    "- select()\n",
    "\n",
    "#### Points To Remember : \n",
    "\n",
    "- The logic to extract the data usually depends upon the HTML structure of the webpage, so some changes in structure can break the logic.\n",
    "\n",
    "- The content of a website can be subject to applied laws, so make sure to read the terms and conditions about content\n"
   ]
  },
  {
   "cell_type": "code",
   "execution_count": 28,
   "metadata": {},
   "outputs": [],
   "source": [
    "html = \"<html><head><title>FirstHTML</title></head><body bgcolor='yellow'>\\\n",
    "        <p><i>Write this code in a text file, save it as html format and open in browser.</i></p>\\\n",
    "        <ol><li>OrderedListItem</li></ol><ul type='circle'><li>UnorderedListItem</li></ul>\\\n",
    "        <form><p>Submit you Request</p><input type='text' maxlength='30'><input type='Submit' value='Submit'></form>\\\n",
    "        <img src='sale.jpg' width='200' height='200'>\\\n",
    "        <a href='https://www.amazon.com/'>BUY@AMAZON</a><br/>\\\n",
    "        <table bordercolor='black' bgcolor='lightpink'><tr><th>Month</th><th>Expenses</th></tr>\\\n",
    "        <tr><td>Jan</td><td>100</td><td>Feb</td><td>105</td></tr></table></body></html>\"\n"
   ]
  },
  {
   "cell_type": "code",
   "execution_count": 31,
   "metadata": {},
   "outputs": [
    {
     "name": "stdout",
     "output_type": "stream",
     "text": [
      "<html>\n",
      " <head>\n",
      "  <title>\n",
      "   FirstHTML\n",
      "  </title>\n",
      " </head>\n",
      " <body bgcolor=\"yellow\">\n",
      "  <p>\n",
      "   <i>\n",
      "    Write this code in a text file, save it as html format and open in browser.\n",
      "   </i>\n",
      "  </p>\n",
      "  <ol>\n",
      "   <li>\n",
      "    OrderedListItem\n",
      "   </li>\n",
      "  </ol>\n",
      "  <ul type=\"circle\">\n",
      "   <li>\n",
      "    UnorderedListItem\n",
      "   </li>\n",
      "  </ul>\n",
      "  <form>\n",
      "   <p>\n",
      "    Submit you Request\n",
      "   </p>\n",
      "   <input maxlength=\"30\" type=\"text\"/>\n",
      "   <input type=\"Submit\" value=\"Submit\"/>\n",
      "  </form>\n",
      "  <img height=\"200\" src=\"sale.jpg\" width=\"200\"/>\n",
      "  <a href=\"https://www.amazon.com/\">\n",
      "   BUY@AMAZON\n",
      "  </a>\n",
      "  <br/>\n",
      "  <table bgcolor=\"lightpink\" bordercolor=\"black\">\n",
      "   <tr>\n",
      "    <th>\n",
      "     Month\n",
      "    </th>\n",
      "    <th>\n",
      "     Expenses\n",
      "    </th>\n",
      "   </tr>\n",
      "   <tr>\n",
      "    <td>\n",
      "     Jan\n",
      "    </td>\n",
      "    <td>\n",
      "     100\n",
      "    </td>\n",
      "    <td>\n",
      "     Feb\n",
      "    </td>\n",
      "    <td>\n",
      "     105\n",
      "    </td>\n",
      "   </tr>\n",
      "  </table>\n",
      " </body>\n",
      "</html>\n"
     ]
    }
   ],
   "source": [
    "from bs4 import BeautifulSoup\n",
    "\n",
    "soup = BeautifulSoup(html, 'html.parser')\n",
    "print(soup.prettify())"
   ]
  },
  {
   "cell_type": "code",
   "execution_count": 3,
   "metadata": {},
   "outputs": [
    {
     "data": {
      "text/plain": [
       "<a href=\"https://www.amazon.com/\">BUY@AMAZON</a>"
      ]
     },
     "execution_count": 3,
     "metadata": {},
     "output_type": "execute_result"
    }
   ],
   "source": [
    "soup.a"
   ]
  },
  {
   "cell_type": "code",
   "execution_count": 4,
   "metadata": {},
   "outputs": [
    {
     "data": {
      "text/plain": [
       "<table bgcolor=\"lightpink\" bordercolor=\"black\"><tr><th>Month</th><th>Expenses</th></tr> <tr><td>Jan</td><td>100</td><td>Feb</td><td>105</td></tr></table>"
      ]
     },
     "execution_count": 4,
     "metadata": {},
     "output_type": "execute_result"
    }
   ],
   "source": [
    "soup.table"
   ]
  },
  {
   "cell_type": "code",
   "execution_count": 5,
   "metadata": {},
   "outputs": [
    {
     "data": {
      "text/plain": [
       "{'bordercolor': 'black', 'bgcolor': 'lightpink'}"
      ]
     },
     "execution_count": 5,
     "metadata": {},
     "output_type": "execute_result"
    }
   ],
   "source": [
    "soup.table.attrs"
   ]
  },
  {
   "cell_type": "code",
   "execution_count": 6,
   "metadata": {
    "scrolled": true
   },
   "outputs": [
    {
     "data": {
      "text/plain": [
       "'lightpink'"
      ]
     },
     "execution_count": 6,
     "metadata": {},
     "output_type": "execute_result"
    }
   ],
   "source": [
    "soup.table['bgcolor']"
   ]
  },
  {
   "cell_type": "code",
   "execution_count": 7,
   "metadata": {},
   "outputs": [
    {
     "data": {
      "text/plain": [
       "<li>OrderedListItem</li>"
      ]
     },
     "execution_count": 7,
     "metadata": {},
     "output_type": "execute_result"
    }
   ],
   "source": [
    "soup.li"
   ]
  },
  {
   "cell_type": "markdown",
   "metadata": {},
   "source": [
    "- __find()__ : This function takes the name of the tag as string input and returns the first found match of the particular tag from the webpage response<br>"
   ]
  },
  {
   "cell_type": "code",
   "execution_count": 8,
   "metadata": {
    "scrolled": true
   },
   "outputs": [
    {
     "data": {
      "text/plain": [
       "<li>OrderedListItem</li>"
      ]
     },
     "execution_count": 8,
     "metadata": {},
     "output_type": "execute_result"
    }
   ],
   "source": [
    "soup.find('li')"
   ]
  },
  {
   "cell_type": "markdown",
   "metadata": {},
   "source": [
    "- __find_all__ : Use find_all to extract all the occurrences of a particular tag from the page response.\n",
    "\n",
    "find_all returns an object of result set which offers index based access to the result of found occurrences and can be printed using a for loop.\n",
    "\n",
    "find_all can accept a list of tags as `soup.find_all(['th', 'td'])` and parameters like id to find tags with unique id."
   ]
  },
  {
   "cell_type": "code",
   "execution_count": 9,
   "metadata": {
    "scrolled": false
   },
   "outputs": [
    {
     "data": {
      "text/plain": [
       "[<li>OrderedListItem</li>, <li>UnorderedListItem</li>]"
      ]
     },
     "execution_count": 9,
     "metadata": {},
     "output_type": "execute_result"
    }
   ],
   "source": [
    "soup.find_all('li')"
   ]
  },
  {
   "cell_type": "code",
   "execution_count": 10,
   "metadata": {},
   "outputs": [
    {
     "data": {
      "text/plain": [
       "<li>UnorderedListItem</li>"
      ]
     },
     "execution_count": 10,
     "metadata": {},
     "output_type": "execute_result"
    }
   ],
   "source": [
    "soup.ul.li"
   ]
  },
  {
   "cell_type": "code",
   "execution_count": 11,
   "metadata": {
    "scrolled": false
   },
   "outputs": [
    {
     "data": {
      "text/plain": [
       "<li>UnorderedListItem</li>"
      ]
     },
     "execution_count": 11,
     "metadata": {},
     "output_type": "execute_result"
    }
   ],
   "source": [
    "soup.find_all('li')[1]"
   ]
  },
  {
   "cell_type": "markdown",
   "metadata": {},
   "source": [
    "- __select()__: This function allows to search for CSS selectors"
   ]
  },
  {
   "cell_type": "code",
   "execution_count": 12,
   "metadata": {},
   "outputs": [
    {
     "data": {
      "text/plain": [
       "[<title>FirstHTML</title>]"
      ]
     },
     "execution_count": 12,
     "metadata": {},
     "output_type": "execute_result"
    }
   ],
   "source": [
    "soup.select('html head title')"
   ]
  },
  {
   "cell_type": "code",
   "execution_count": 13,
   "metadata": {},
   "outputs": [
    {
     "data": {
      "text/plain": [
       "[<p><i>Write this code in a text file, save it as html format and open in browser.</i></p>,\n",
       " <p>Submit you Request</p>]"
      ]
     },
     "execution_count": 13,
     "metadata": {},
     "output_type": "execute_result"
    }
   ],
   "source": [
    "soup.select('p')"
   ]
  },
  {
   "cell_type": "code",
   "execution_count": 14,
   "metadata": {},
   "outputs": [
    {
     "data": {
      "text/plain": [
       "[<p>Submit you Request</p>]"
      ]
     },
     "execution_count": 14,
     "metadata": {},
     "output_type": "execute_result"
    }
   ],
   "source": [
    "soup.select('form > p')"
   ]
  },
  {
   "cell_type": "markdown",
   "metadata": {},
   "source": [
    "### Extract text without tags"
   ]
  },
  {
   "cell_type": "code",
   "execution_count": 33,
   "metadata": {
    "scrolled": true
   },
   "outputs": [
    {
     "data": {
      "text/plain": [
       "'UnorderedListItem'"
      ]
     },
     "execution_count": 33,
     "metadata": {},
     "output_type": "execute_result"
    }
   ],
   "source": [
    "soup.ul.li.string"
   ]
  },
  {
   "cell_type": "code",
   "execution_count": 16,
   "metadata": {
    "scrolled": true
   },
   "outputs": [
    {
     "data": {
      "text/plain": [
       "['FirstHTML',\n",
       " ' ',\n",
       " 'Write this code in a text file, save it as html format and open in browser.',\n",
       " ' ',\n",
       " 'OrderedListItem',\n",
       " 'UnorderedListItem',\n",
       " ' ',\n",
       " 'Submit you Request',\n",
       " ' ',\n",
       " ' ',\n",
       " 'BUY@AMAZON',\n",
       " ' ',\n",
       " 'Month',\n",
       " 'Expenses',\n",
       " ' ',\n",
       " 'Jan',\n",
       " '100',\n",
       " 'Feb',\n",
       " '105']"
      ]
     },
     "execution_count": 16,
     "metadata": {},
     "output_type": "execute_result"
    }
   ],
   "source": [
    "list(soup.strings)"
   ]
  },
  {
   "cell_type": "code",
   "execution_count": 34,
   "metadata": {},
   "outputs": [
    {
     "data": {
      "text/plain": [
       "'UnorderedListItem'"
      ]
     },
     "execution_count": 34,
     "metadata": {},
     "output_type": "execute_result"
    }
   ],
   "source": [
    "soup.ul.li.string.replace_with('UL 1')"
   ]
  },
  {
   "cell_type": "code",
   "execution_count": 35,
   "metadata": {
    "scrolled": true
   },
   "outputs": [
    {
     "data": {
      "text/plain": [
       "'UL 1'"
      ]
     },
     "execution_count": 35,
     "metadata": {},
     "output_type": "execute_result"
    }
   ],
   "source": [
    "soup.ul.li.text"
   ]
  },
  {
   "cell_type": "markdown",
   "metadata": {},
   "source": [
    "Beautiful Soup also provides navigation properties like\n",
    "\n",
    "- __children__ and __descendants__: To access tags at next level.\n",
    "\n",
    "- __next_sibling__ and __previous_sibling__: To traverse tags at same level.\n",
    "\n",
    "- __next_element__ and __previous_element__: To shift HTML elements."
   ]
  },
  {
   "cell_type": "code",
   "execution_count": 19,
   "metadata": {},
   "outputs": [
    {
     "data": {
      "text/plain": [
       "[' ',\n",
       " <p><i>Write this code in a text file, save it as html format and open in browser.</i></p>,\n",
       " ' ',\n",
       " <ol><li>OrderedListItem</li></ol>,\n",
       " <ul type=\"circle\"><li>UL 1</li></ul>,\n",
       " ' ',\n",
       " <form><p>Submit you Request</p><input maxlength=\"30\" type=\"text\"/><input type=\"Submit\" value=\"Submit\"/></form>,\n",
       " ' ',\n",
       " <img height=\"200\" src=\"sale.jpg\" width=\"200\"/>,\n",
       " ' ',\n",
       " <a href=\"https://www.amazon.com/\">BUY@AMAZON</a>,\n",
       " <br/>,\n",
       " ' ',\n",
       " <table bgcolor=\"lightpink\" bordercolor=\"black\"><tr><th>Month</th><th>Expenses</th></tr> <tr><td>Jan</td><td>100</td><td>Feb</td><td>105</td></tr></table>]"
      ]
     },
     "execution_count": 19,
     "metadata": {},
     "output_type": "execute_result"
    }
   ],
   "source": [
    "soup.body.contents"
   ]
  },
  {
   "cell_type": "code",
   "execution_count": 20,
   "metadata": {},
   "outputs": [
    {
     "data": {
      "text/plain": [
       "[' ',\n",
       " <p><i>Write this code in a text file, save it as html format and open in browser.</i></p>,\n",
       " ' ',\n",
       " <ol><li>OrderedListItem</li></ol>,\n",
       " <ul type=\"circle\"><li>UL 1</li></ul>,\n",
       " ' ',\n",
       " <form><p>Submit you Request</p><input maxlength=\"30\" type=\"text\"/><input type=\"Submit\" value=\"Submit\"/></form>,\n",
       " ' ',\n",
       " <img height=\"200\" src=\"sale.jpg\" width=\"200\"/>,\n",
       " ' ',\n",
       " <a href=\"https://www.amazon.com/\">BUY@AMAZON</a>,\n",
       " <br/>,\n",
       " ' ',\n",
       " <table bgcolor=\"lightpink\" bordercolor=\"black\"><tr><th>Month</th><th>Expenses</th></tr> <tr><td>Jan</td><td>100</td><td>Feb</td><td>105</td></tr></table>]"
      ]
     },
     "execution_count": 20,
     "metadata": {},
     "output_type": "execute_result"
    }
   ],
   "source": [
    "list(soup.body.children)"
   ]
  },
  {
   "cell_type": "code",
   "execution_count": 21,
   "metadata": {
    "scrolled": true
   },
   "outputs": [
    {
     "data": {
      "text/plain": [
       "[' ',\n",
       " <p><i>Write this code in a text file, save it as html format and open in browser.</i></p>,\n",
       " <i>Write this code in a text file, save it as html format and open in browser.</i>,\n",
       " 'Write this code in a text file, save it as html format and open in browser.',\n",
       " ' ',\n",
       " <ol><li>OrderedListItem</li></ol>,\n",
       " <li>OrderedListItem</li>,\n",
       " 'OrderedListItem',\n",
       " <ul type=\"circle\"><li>UL 1</li></ul>,\n",
       " <li>UL 1</li>,\n",
       " 'UL 1',\n",
       " ' ',\n",
       " <form><p>Submit you Request</p><input maxlength=\"30\" type=\"text\"/><input type=\"Submit\" value=\"Submit\"/></form>,\n",
       " <p>Submit you Request</p>,\n",
       " 'Submit you Request',\n",
       " <input maxlength=\"30\" type=\"text\"/>,\n",
       " <input type=\"Submit\" value=\"Submit\"/>,\n",
       " ' ',\n",
       " <img height=\"200\" src=\"sale.jpg\" width=\"200\"/>,\n",
       " ' ',\n",
       " <a href=\"https://www.amazon.com/\">BUY@AMAZON</a>,\n",
       " 'BUY@AMAZON',\n",
       " <br/>,\n",
       " ' ',\n",
       " <table bgcolor=\"lightpink\" bordercolor=\"black\"><tr><th>Month</th><th>Expenses</th></tr> <tr><td>Jan</td><td>100</td><td>Feb</td><td>105</td></tr></table>,\n",
       " <tr><th>Month</th><th>Expenses</th></tr>,\n",
       " <th>Month</th>,\n",
       " 'Month',\n",
       " <th>Expenses</th>,\n",
       " 'Expenses',\n",
       " ' ',\n",
       " <tr><td>Jan</td><td>100</td><td>Feb</td><td>105</td></tr>,\n",
       " <td>Jan</td>,\n",
       " 'Jan',\n",
       " <td>100</td>,\n",
       " '100',\n",
       " <td>Feb</td>,\n",
       " 'Feb',\n",
       " <td>105</td>,\n",
       " '105']"
      ]
     },
     "execution_count": 21,
     "metadata": {},
     "output_type": "execute_result"
    }
   ],
   "source": [
    "list(soup.body.descendants)"
   ]
  },
  {
   "cell_type": "code",
   "execution_count": 22,
   "metadata": {
    "scrolled": true
   },
   "outputs": [
    {
     "name": "stdout",
     "output_type": "stream",
     "text": [
      "<td>Jan</td>\n",
      "<td>100</td>\n"
     ]
    }
   ],
   "source": [
    "print(soup.td)\n",
    "print(soup.td.next_sibling)"
   ]
  },
  {
   "cell_type": "code",
   "execution_count": 23,
   "metadata": {},
   "outputs": [
    {
     "name": "stdout",
     "output_type": "stream",
     "text": [
      "[<td>100</td>, <td>Feb</td>, <td>105</td>]\n"
     ]
    }
   ],
   "source": [
    "print(list(soup.td.next_siblings))"
   ]
  },
  {
   "cell_type": "code",
   "execution_count": 24,
   "metadata": {
    "scrolled": true
   },
   "outputs": [
    {
     "name": "stdout",
     "output_type": "stream",
     "text": [
      "None\n",
      "<table bgcolor=\"lightpink\" bordercolor=\"black\"><tr><th>Month</th><th>Expenses</th></tr> <tr><td>Jan</td><td>100</td><td>Feb</td><td>105</td></tr></table>\n"
     ]
    }
   ],
   "source": [
    "print(soup.tr.previous_sibling)\n",
    "print(soup.tr.previous_element)"
   ]
  },
  {
   "cell_type": "markdown",
   "metadata": {},
   "source": [
    "### Parse based on condition"
   ]
  },
  {
   "cell_type": "code",
   "execution_count": 25,
   "metadata": {},
   "outputs": [
    {
     "name": "stdout",
     "output_type": "stream",
     "text": [
      "<body bgcolor=\"yellow\">\n",
      " <p>\n",
      "  <i>\n",
      "   Write this code in a text file, save it as html format and open in browser.\n",
      "  </i>\n",
      " </p>\n",
      " <ol>\n",
      "  <li>\n",
      "   OrderedListItem\n",
      "  </li>\n",
      " </ol>\n",
      " <ul type=\"circle\">\n",
      "  <li>\n",
      "   UnorderedListItem\n",
      "  </li>\n",
      " </ul>\n",
      " <form>\n",
      "  <p>\n",
      "   Submit you Request\n",
      "  </p>\n",
      "  <input maxlength=\"30\" type=\"text\"/>\n",
      "  <input type=\"Submit\" value=\"Submit\"/>\n",
      " </form>\n",
      " <img height=\"200\" src=\"sale.jpg\" width=\"200\"/>\n",
      " <a href=\"https://www.amazon.com/\">\n",
      "  BUY@AMAZON\n",
      " </a>\n",
      " <br/>\n",
      " <table bgcolor=\"lightpink\" bordercolor=\"black\">\n",
      "  <tr>\n",
      "   <th>\n",
      "    Month\n",
      "   </th>\n",
      "   <th>\n",
      "    Expenses\n",
      "   </th>\n",
      "  </tr>\n",
      "  <tr>\n",
      "   <td>\n",
      "    Jan\n",
      "   </td>\n",
      "   <td>\n",
      "    100\n",
      "   </td>\n",
      "   <td>\n",
      "    Feb\n",
      "   </td>\n",
      "   <td>\n",
      "    105\n",
      "   </td>\n",
      "  </tr>\n",
      " </table>\n",
      "</body>\n"
     ]
    }
   ],
   "source": [
    "from bs4 import SoupStrainer\n",
    "\n",
    "s = BeautifulSoup(html, 'html.parser', parse_only = SoupStrainer('body'))\n",
    "print(s.prettify())"
   ]
  },
  {
   "cell_type": "markdown",
   "metadata": {},
   "source": [
    "### Remove some tag from the soup"
   ]
  },
  {
   "cell_type": "code",
   "execution_count": 26,
   "metadata": {},
   "outputs": [
    {
     "name": "stdout",
     "output_type": "stream",
     "text": [
      "<body bgcolor=\"yellow\">\n",
      " <p>\n",
      "  <i>\n",
      "   Write this code in a text file, save it as html format and open in browser.\n",
      "  </i>\n",
      " </p>\n",
      " <ol>\n",
      "  <li>\n",
      "   OrderedListItem\n",
      "  </li>\n",
      " </ol>\n",
      " <ul type=\"circle\">\n",
      "  <li>\n",
      "   UnorderedListItem\n",
      "  </li>\n",
      " </ul>\n",
      " <form>\n",
      "  <p>\n",
      "   Submit you Request\n",
      "  </p>\n",
      "  <input maxlength=\"30\" type=\"text\"/>\n",
      "  <input type=\"Submit\" value=\"Submit\"/>\n",
      " </form>\n",
      " <img height=\"200\" src=\"sale.jpg\" width=\"200\"/>\n",
      " <a href=\"https://www.amazon.com/\">\n",
      "  BUY@AMAZON\n",
      " </a>\n",
      " <br/>\n",
      "</body>\n"
     ]
    }
   ],
   "source": [
    "s.table.decompose()\n",
    "print(s.prettify())"
   ]
  },
  {
   "cell_type": "markdown",
   "metadata": {},
   "source": [
    "### Remove first occurance of a tag in the soup"
   ]
  },
  {
   "cell_type": "code",
   "execution_count": 27,
   "metadata": {},
   "outputs": [
    {
     "name": "stdout",
     "output_type": "stream",
     "text": [
      "<body bgcolor=\"yellow\">\n",
      " <p>\n",
      "  <i>\n",
      "   Write this code in a text file, save it as html format and open in browser.\n",
      "  </i>\n",
      " </p>\n",
      " <ol>\n",
      " </ol>\n",
      " <ul type=\"circle\">\n",
      "  <li>\n",
      "   UnorderedListItem\n",
      "  </li>\n",
      " </ul>\n",
      " <form>\n",
      "  <p>\n",
      "   Submit you Request\n",
      "  </p>\n",
      "  <input maxlength=\"30\" type=\"text\"/>\n",
      "  <input type=\"Submit\" value=\"Submit\"/>\n",
      " </form>\n",
      " <img height=\"200\" src=\"sale.jpg\" width=\"200\"/>\n",
      " <a href=\"https://www.amazon.com/\">\n",
      "  BUY@AMAZON\n",
      " </a>\n",
      " <br/>\n",
      "</body>\n"
     ]
    }
   ],
   "source": [
    "s.li.extract()\n",
    "print(s.prettify())"
   ]
  }
 ],
 "metadata": {
  "kernelspec": {
   "display_name": "Python 3",
   "language": "python",
   "name": "python3"
  },
  "language_info": {
   "codemirror_mode": {
    "name": "ipython",
    "version": 3
   },
   "file_extension": ".py",
   "mimetype": "text/x-python",
   "name": "python",
   "nbconvert_exporter": "python",
   "pygments_lexer": "ipython3",
   "version": "3.7.3"
  }
 },
 "nbformat": 4,
 "nbformat_minor": 2
}
